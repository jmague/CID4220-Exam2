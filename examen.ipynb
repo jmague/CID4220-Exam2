{
 "cells": [
  {
   "attachments": {},
   "cell_type": "markdown",
   "metadata": {},
   "source": [
    "# Traitement de données textuelles en Python\n",
    "## Examen"
   ]
  },
  {
   "attachments": {},
   "cell_type": "markdown",
   "metadata": {},
   "source": [
    "Antoine Morand de Jouffrey fut un homme de droit et un homme politique lyonnais de la fin de 18e siècle et du début du 19e. Une partie de sa correspondance, notamment avec son épouse et avec sa mère, est conservée aux Archives municipales de Lyon. Une équipe de l’ENS de Lyon a édité cette correspondance. Le résultat de leur travail est disponible sur le site web [Le Roman des Morand](http://morand.ens-lyon.fr/).\n",
    "Vous allez travailler sur une partie de ces lettres, celles échangées entre Antoine et sa mère, Antoinette, au cours de l’année 1801.\n",
    "\n",
    "Il y a 11 questions, chacune pouvant rapporter 2 points. La note maximale est donc de 22/20. Même si vous n'avez la bonne réponse, n'hésitez pas donner des éléments de réponse (par exemple \"Il faudrait faire ceci, mais je n'y arrive pas car je ne sais pas faire cela\"). "
   ]
  },
  {
   "cell_type": "code",
   "execution_count": 58,
   "metadata": {
    "execution": {
     "iopub.execute_input": "2021-05-17T09:23:27.971349Z",
     "iopub.status.busy": "2021-05-17T09:23:27.970961Z",
     "iopub.status.idle": "2021-05-17T09:23:28.264734Z",
     "shell.execute_reply": "2021-05-17T09:23:28.263818Z",
     "shell.execute_reply.started": "2021-05-17T09:23:27.971287Z"
    },
    "tags": []
   },
   "outputs": [],
   "source": [
    "texte=open('lettres.txt', encoding='utf8')\n",
    "lettres=[]\n",
    "for ligne in texte:\n",
    "    if ligne[:3]=='De:':\n",
    "        lettreCourante={}\n",
    "        lettreCourante['Entête']=ligne.strip()\n",
    "        lettreCourante['Texte']=\"\"\n",
    "    elif ligne=='\\n':\n",
    "        lettres.append(lettreCourante)\n",
    "    else:\n",
    "        lettreCourante['Texte']+=ligne"
   ]
  },
  {
   "attachments": {},
   "cell_type": "markdown",
   "metadata": {},
   "source": [
    "## Question 1\n",
    "\n",
    "Le programme ci-dessus lit le fichier lettres.txt et construit une liste `lettres`, dans laquelle chaque élement est un dictionnaire qui représente une lettre. Quelles sont les clés de ces dictionnaires ?"
   ]
  },
  {
   "cell_type": "code",
   "execution_count": null,
   "metadata": {
    "tags": []
   },
   "outputs": [],
   "source": []
  },
  {
   "cell_type": "markdown",
   "metadata": {},
   "source": [
    "## Question 2\n",
    "Quel est le type des valeurs associées à ces clés ?"
   ]
  },
  {
   "cell_type": "code",
   "execution_count": null,
   "metadata": {},
   "outputs": [],
   "source": []
  },
  {
   "attachments": {},
   "cell_type": "markdown",
   "metadata": {},
   "source": [
    "## Question 3\n",
    "Combien y a-t-il de lettres ?"
   ]
  },
  {
   "cell_type": "code",
   "execution_count": null,
   "metadata": {
    "tags": []
   },
   "outputs": [],
   "source": []
  },
  {
   "attachments": {},
   "cell_type": "markdown",
   "metadata": {},
   "source": [
    "## Question 4\n",
    "Que fait la ligne ci-dessous ?"
   ]
  },
  {
   "cell_type": "code",
   "execution_count": 16,
   "metadata": {
    "execution": {
     "iopub.execute_input": "2021-04-16T13:13:18.242863Z",
     "iopub.status.busy": "2021-04-16T13:13:18.242444Z",
     "iopub.status.idle": "2021-04-16T13:13:18.248846Z",
     "shell.execute_reply": "2021-04-16T13:13:18.245600Z",
     "shell.execute_reply.started": "2021-04-16T13:13:18.242832Z"
    }
   },
   "outputs": [],
   "source": [
    "import re "
   ]
  },
  {
   "attachments": {},
   "cell_type": "markdown",
   "metadata": {},
   "source": [
    "(En double-cliquant ici, vous aurez une zone où répondre)"
   ]
  },
  {
   "attachments": {},
   "cell_type": "markdown",
   "metadata": {},
   "source": [
    "## Question 5\n",
    "\n",
    "Expliquez ce que cherche l'expression régulière dans le programme ci-dessous. Expliquez ce que fait ce programme."
   ]
  },
  {
   "cell_type": "code",
   "execution_count": 59,
   "metadata": {},
   "outputs": [],
   "source": [
    "for lettre in lettres:\n",
    "    match=re.match('De: (.*?) À: (.*?) Date: (.*)', lettre['Entête'])\n",
    "    lettre['Expéditeur']=match.group(1)\n",
    "    lettre['Destinataire']=match.group(2)\n",
    "    lettre['Date']=match.group(3)"
   ]
  },
  {
   "attachments": {},
   "cell_type": "markdown",
   "metadata": {},
   "source": [
    "(En double-cliquant ici, vous aurez une zone où répondre)"
   ]
  },
  {
   "attachments": {},
   "cell_type": "markdown",
   "metadata": {},
   "source": [
    "## Question 6\n",
    "Le programme ci-dessous charge le contenu du fichier `lettres.json`. Le contenu de la variable `lettres` est alors similaire à celui qui doit obtenu après la question 5, à ceci près que le texte des interventions a été tokenisé et que la clé `Entête` a été supprimée. \n",
    "\n",
    "Quel est le 37<sup>ème</sup> mot de la 4<sup>ème</sup> lettre ?"
   ]
  },
  {
   "cell_type": "code",
   "execution_count": 80,
   "metadata": {
    "execution": {
     "iopub.execute_input": "2021-04-16T13:08:26.958056Z",
     "iopub.status.busy": "2021-04-16T13:08:26.957771Z",
     "iopub.status.idle": "2021-04-16T13:08:29.861932Z",
     "shell.execute_reply": "2021-04-16T13:08:29.860943Z",
     "shell.execute_reply.started": "2021-04-16T13:08:26.958026Z"
    },
    "tags": []
   },
   "outputs": [],
   "source": [
    "import json\n",
    "with open('lettres.json', encoding='utf8') as f:\n",
    "    lettres=json.loads(f.read())"
   ]
  },
  {
   "cell_type": "markdown",
   "metadata": {},
   "source": [
    "(En double-cliquant ici, vous aurez une zone où répondre)"
   ]
  },
  {
   "attachments": {},
   "cell_type": "markdown",
   "metadata": {},
   "source": [
    "## Question 7\n",
    "Que fait le programme ci-dessous ?"
   ]
  },
  {
   "cell_type": "code",
   "execution_count": 89,
   "metadata": {},
   "outputs": [],
   "source": [
    "nOccurrences = {}\n",
    "for lettre in lettres:\n",
    "    for token in lettre['Texte']:\n",
    "        if token not in nOccurrences:\n",
    "            nOccurrences[token]=1\n",
    "        else:\n",
    "            nOccurrences[token]+=1"
   ]
  },
  {
   "attachments": {},
   "cell_type": "markdown",
   "metadata": {},
   "source": [
    "(En double-cliquant ici, vous aurez une zone où répondre)"
   ]
  },
  {
   "attachments": {},
   "cell_type": "markdown",
   "metadata": {},
   "source": [
    "## Question 8\n",
    "Le programme ci-dessous construit un tableau (un DataFrame) nommé `nOccurrences_df` qui donne pour chaque \"mot\"  son nombre d'occurrences dans l'ensemble des séances (ici, le terme mot est à prendre dans un sens très large, les signes de ponctuation étant également des \"mots\"). Les 5 premières ligne de ce tableau sont également affichées. \n",
    "\n",
    "Combien de mots différents sont utilisés ? "
   ]
  },
  {
   "cell_type": "code",
   "execution_count": 90,
   "metadata": {},
   "outputs": [
    {
     "data": {
      "text/html": [
       "<div>\n",
       "<style scoped>\n",
       "    .dataframe tbody tr th:only-of-type {\n",
       "        vertical-align: middle;\n",
       "    }\n",
       "\n",
       "    .dataframe tbody tr th {\n",
       "        vertical-align: top;\n",
       "    }\n",
       "\n",
       "    .dataframe thead th {\n",
       "        text-align: right;\n",
       "    }\n",
       "</style>\n",
       "<table border=\"1\" class=\"dataframe\">\n",
       "  <thead>\n",
       "    <tr style=\"text-align: right;\">\n",
       "      <th></th>\n",
       "      <th>nOccurrences</th>\n",
       "    </tr>\n",
       "  </thead>\n",
       "  <tbody>\n",
       "    <tr>\n",
       "      <th>!</th>\n",
       "      <td>1</td>\n",
       "    </tr>\n",
       "    <tr>\n",
       "      <th>(</th>\n",
       "      <td>5</td>\n",
       "    </tr>\n",
       "    <tr>\n",
       "      <th>)</th>\n",
       "      <td>5</td>\n",
       "    </tr>\n",
       "    <tr>\n",
       "      <th>,</th>\n",
       "      <td>160</td>\n",
       "    </tr>\n",
       "    <tr>\n",
       "      <th>-</th>\n",
       "      <td>6</td>\n",
       "    </tr>\n",
       "  </tbody>\n",
       "</table>\n",
       "</div>"
      ],
      "text/plain": [
       "   nOccurrences\n",
       "!             1\n",
       "(             5\n",
       ")             5\n",
       ",           160\n",
       "-             6"
      ]
     },
     "execution_count": 90,
     "metadata": {},
     "output_type": "execute_result"
    }
   ],
   "source": [
    "import pandas as pd\n",
    "nOccurrences_df=pd.DataFrame({'nOccurrences':nOccurrences})\n",
    "nOccurrences_df.head()"
   ]
  },
  {
   "cell_type": "code",
   "execution_count": null,
   "metadata": {},
   "outputs": [],
   "source": []
  },
  {
   "attachments": {},
   "cell_type": "markdown",
   "metadata": {},
   "source": [
    "## Question 9\n",
    "Quel est le plus fréquent ?"
   ]
  },
  {
   "cell_type": "code",
   "execution_count": null,
   "metadata": {},
   "outputs": [],
   "source": []
  },
  {
   "attachments": {},
   "cell_type": "markdown",
   "metadata": {},
   "source": [
    "## Question 10\n",
    "Le programme ci-dessous construit également un tableau donnant le nombre d'occurrences de chaque mot, pour Antoine d'un côté et pour Antoinette de l'autre. Qui d'Antoine ou Antoinette s'est le plus exprimé ?"
   ]
  },
  {
   "cell_type": "code",
   "execution_count": 92,
   "metadata": {},
   "outputs": [],
   "source": [
    "nOccurencesParPersonne = {}\n",
    "for lettre in lettres:\n",
    "    expéditeur = lettre['Expéditeur']\n",
    "    if expéditeur not in nOccurencesParPersonne:\n",
    "        nOccurencesParPersonne[expéditeur]={}\n",
    "    for token in lettre['Texte']:\n",
    "        if token not in nOccurencesParPersonne[expéditeur]:\n",
    "            nOccurencesParPersonne[expéditeur][token]=1\n",
    "        else:\n",
    "            nOccurencesParPersonne[expéditeur][token]+=1\n",
    "nOccurencesParPersonne_df=pd.DataFrame(nOccurencesParPersonne).fillna(0)"
   ]
  },
  {
   "cell_type": "code",
   "execution_count": null,
   "metadata": {},
   "outputs": [],
   "source": []
  },
  {
   "attachments": {},
   "cell_type": "markdown",
   "metadata": {},
   "source": [
    "## Question 11\n",
    "Combien de fois ont-ils respectivement utlisé le mot `Lyon` ? "
   ]
  },
  {
   "cell_type": "code",
   "execution_count": null,
   "metadata": {},
   "outputs": [],
   "source": []
  }
 ],
 "metadata": {
  "kernelspec": {
   "display_name": "Python 3",
   "language": "python",
   "name": "python3"
  },
  "language_info": {
   "codemirror_mode": {
    "name": "ipython",
    "version": 3
   },
   "file_extension": ".py",
   "mimetype": "text/x-python",
   "name": "python",
   "nbconvert_exporter": "python",
   "pygments_lexer": "ipython3",
   "version": "3.10.6"
  }
 },
 "nbformat": 4,
 "nbformat_minor": 4
}
